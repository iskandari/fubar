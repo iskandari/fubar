{
 "cells": [
  {
   "cell_type": "markdown",
   "metadata": {},
   "source": [
    "# PR curve for YOLO"
   ]
  },
  {
   "cell_type": "code",
   "execution_count": 1,
   "metadata": {
    "collapsed": false,
    "inputHidden": false,
    "outputHidden": false
   },
   "outputs": [],
   "source": [
    "import numpy as np\n",
    "import matplotlib.pyplot as plt"
   ]
  },
  {
   "cell_type": "code",
   "execution_count": 2,
   "metadata": {
    "collapsed": false,
    "inputHidden": false,
    "outputHidden": false
   },
   "outputs": [],
   "source": [
    "%matplotlib inline"
   ]
  },
  {
   "cell_type": "code",
   "execution_count": 3,
   "metadata": {
    "collapsed": false,
    "inputHidden": false,
    "outputHidden": false
   },
   "outputs": [],
   "source": [
    "class_0 = {0: dict(cur_recall = 0.0000, cur_precision = 1.0000),\n",
    "1: dict(cur_recall = 0.1000, cur_precision = 1.0000),\n",
    "2: dict(cur_recall = 0.2000, cur_precision = 0.9946),\n",
    "3: dict(cur_recall = 0.3000, cur_precision = 0.9946),\n",
    "4: dict(cur_recall = 0.4000, cur_precision = 0.9946),\n",
    "5: dict(cur_recall = 0.5000, cur_precision = 0.9946),\n",
    "6: dict(cur_recall = 0.6000, cur_precision = 0.9831),\n",
    "7: dict(cur_recall = 0.7000, cur_precision = 0.9771),\n",
    "8: dict(cur_recall = 0.8000, cur_precision = 0.9661),\n",
    "9: dict(cur_recall = 0.9000, cur_precision = 0.0000),\n",
    "10: dict(cur_recall = 1.0000, cur_precision = 0.0000)}\n",
    "\n",
    "class_1 = {0: dict(cur_recall = 0.0000, cur_precision = 1.0000),\n",
    "1: dict(cur_recall = 0.1000, cur_precision = 1.0000),\n",
    "2: dict(cur_recall = 0.2000, cur_precision = 0.9732),\n",
    "3: dict(cur_recall = 0.3000, cur_precision = 0.9732),\n",
    "4: dict(cur_recall = 0.4000, cur_precision = 0.9484),\n",
    "5: dict(cur_recall = 0.5000, cur_precision = 0.9466),\n",
    "6: dict(cur_recall = 0.6000, cur_precision = 0.9181),\n",
    "7: dict(cur_recall = 0.7000, cur_precision = 0.8488),\n",
    "8: dict(cur_recall = 0.8000, cur_precision = 0.7843),\n",
    "9: dict(cur_recall = 0.9000, cur_precision = 0.0000),\n",
    "10: dict(cur_recall = 1.0000, cur_precision = 0.0000)}"
   ]
  },
  {
   "cell_type": "code",
   "execution_count": 4,
   "metadata": {
    "collapsed": false,
    "inputHidden": false,
    "outputHidden": false
   },
   "outputs": [],
   "source": [
    "def list_vals(dct, key):\n",
    "    \"\"\"\n",
    "    func to return listed values of recall and precision\n",
    "    \"\"\"\n",
    "    lst = []\n",
    "    for a,b in dct.items():\n",
    "        for k,v in b.items():\n",
    "            if k == key:\n",
    "                lst.append(v)\n",
    "    return lst"
   ]
  },
  {
   "cell_type": "code",
   "execution_count": 5,
   "metadata": {
    "collapsed": false,
    "inputHidden": false,
    "outputHidden": false
   },
   "outputs": [],
   "source": [
    "x_0 = list_vals(class_0, 'cur_recall')\n",
    "y_0 = list_vals(class_0, 'cur_precision')"
   ]
  },
  {
   "cell_type": "code",
   "execution_count": 8,
   "metadata": {},
   "outputs": [],
   "source": [
    "x_1 = list_vals(class_1, 'cur_recall')\n",
    "y_1 = list_vals(class_1, 'cur_precision')"
   ]
  },
  {
   "cell_type": "code",
   "execution_count": 10,
   "metadata": {
    "collapsed": false,
    "inputHidden": false,
    "outputHidden": false
   },
   "outputs": [
    {
     "data": {
      "text/plain": [
       "Text(0.5, 1.0, 'PR Curve for \"lock\" class')"
      ]
     },
     "execution_count": 10,
     "metadata": {},
     "output_type": "execute_result"
    },
    {
     "data": {
      "image/png": "[encoded data removed]",
      "text/plain": [
       "<Figure size 432x288 with 1 Axes>"
      ]
     },
     "metadata": {
      "needs_background": "light"
     },
     "output_type": "display_data"
    }
   ],
   "source": [
    "plt.plot(x_0, y_0)\n",
    "plt.xlabel('Recall')\n",
    "plt.ylabel('Precision')\n",
    "plt.title('PR Curve for \"lock\" class')"
   ]
  },
  {
   "cell_type": "code",
   "execution_count": 11,
   "metadata": {
    "collapsed": false,
    "inputHidden": false,
    "outputHidden": false
   },
   "outputs": [
    {
     "data": {
      "text/plain": [
       "Text(0.5, 1.0, 'PR Curve for \"rack\" class')"
      ]
     },
     "execution_count": 11,
     "metadata": {},
     "output_type": "execute_result"
    },
    {
     "data": {
      "image/png": "[encoded data removed]",
      "text/plain": [
       "<Figure size 432x288 with 1 Axes>"
      ]
     },
     "metadata": {
      "needs_background": "light"
     },
     "output_type": "display_data"
    }
   ],
   "source": [
    "plt.plot(x_1, y_1)\n",
    "plt.xlabel('Recall')\n",
    "plt.ylabel('Precision')\n",
    "plt.title('PR Curve for \"rack\" class')"
   ]
  },
  {
   "cell_type": "code",
   "execution_count": null,
   "metadata": {},
   "outputs": [],
   "source": []
  }
 ],
 "metadata": {
  "kernel_info": {
   "name": "fubarenv"
  },
  "kernelspec": {
   "display_name": "fubarenv",
   "language": "python",
   "name": "fubarenv"
  },
  "language_info": {
   "codemirror_mode": {
    "name": "ipython",
    "version": 3
   },
   "file_extension": ".py",
   "mimetype": "text/x-python",
   "name": "python",
   "nbconvert_exporter": "python",
   "pygments_lexer": "ipython3",
   "version": "3.7.3"
  },
  "nteract": {
   "version": "0.14.4"
  }
 },
 "nbformat": 4,
 "nbformat_minor": 2
}
